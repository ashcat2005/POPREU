{
 "metadata": {
  "kernelspec": {
   "display_name": "Python 2",
   "language": "python",
   "name": "python2"
  },
  "language_info": {
   "codemirror_mode": {
    "name": "ipython",
    "version": 2
   },
   "file_extension": ".py",
   "mimetype": "text/x-python",
   "name": "python",
   "nbconvert_exporter": "python",
   "pygments_lexer": "ipython2",
   "version": "2.7.10"
  },
  "name": "",
  "signature": "sha256:9d5f1658a4dcec2e730e863ab18a56441228e6cfb8409523f18eaeea0fcce2e4"
 },
 "nbformat": 3,
 "nbformat_minor": 0,
 "worksheets": [
  {
   "cells": [
    {
     "cell_type": "markdown",
     "metadata": {},
     "source": [
      "##Train and Save a Random Forest Model for Star-Galaxy Classification\n"
     ]
    },
    {
     "cell_type": "markdown",
     "metadata": {},
     "source": [
      "The following code allows us to use PySpark in the iPython Notebook "
     ]
    },
    {
     "cell_type": "code",
     "collapsed": false,
     "input": [
      "import os\n",
      "import sys\n",
      "\n",
      "# Set the path for spark installation\n",
      "# this is the path where you have built spark using sbt/sbt assembly\n",
      "os.environ['SPARK_HOME']=\"/Users/blorangest/Desktop/spark-1.3.1-bin-hadoop2.6\"\n",
      "# Append to PYTHONPATH so that pyspark could be found\n",
      "sys.path.append(\"/Users/blorangest/Desktop/spark-1.3.1-bin-hadoop2.6/python\")\n",
      "sys.path.append(os.path.join(os.environ['SPARK_HOME'], 'python/lib/py4j-0.8.2.1-src.zip'))\n",
      "sys.path.append(\"/Library/Python/2.7/site-packages\") #gives the location of pyfits and other python modules on local machine \n",
      "\n",
      "\n",
      "# Now we are ready to import Spark Modules\n",
      "try:\n",
      "    from pyspark.mllib.tree import RandomForest\n",
      "    from pyspark.mllib.tree import DecisionTreeModel\n",
      "    from pyspark.mllib.tree import RandomForestModel\n",
      "    from pyspark.mllib.util import MLUtils\n",
      "    from pyspark.mllib.regression import LabeledPoint\n",
      "    from pyspark import SparkContext\n",
      "\n",
      "except ImportError as e:\n",
      "    print (\"Error importing Spark Modules\", e)\n",
      "    sys.exit(1)\n",
      "import numpy as np\n",
      "import shutil"
     ],
     "language": "python",
     "metadata": {},
     "outputs": [],
     "prompt_number": 1
    },
    {
     "cell_type": "markdown",
     "metadata": {},
     "source": [
      "Now we set some variables that will determine the properties of the random forest. \n",
      "test_size is the percentage of the data that will be used to test the model.\n",
      "num_trees is the number of trees in the forest.\n",
      "max_depth is the maximum depth of each tree. It must be no more than 30. Really, it doesn't make sense for it to be greater than the number of features per point. strat is the feature subset selection strategy. The options are: all, auto, sqrt, log2, onethird. auto is the same as sqrt with more than one tree, and the same as all with only one tree.\n",
      "k is the number of folds desired for kfolds cross validation"
     ]
    },
    {
     "cell_type": "code",
     "collapsed": true,
     "input": [
      "dataFile = \"data/cfhtlens_matched.csv\"\n",
      "test_size = 0.2\n",
      "num_trees = 50\n",
      "max_depth = 10\n",
      "strat = 'log2'\n",
      "k = 5"
     ],
     "language": "python",
     "metadata": {},
     "outputs": [],
     "prompt_number": 2
    },
    {
     "cell_type": "markdown",
     "metadata": {},
     "source": [
      "This function saves a given RDD as a text file"
     ]
    },
    {
     "cell_type": "code",
     "collapsed": true,
     "input": [
      "def save (rdd, filename):\n",
      "    try:\n",
      "        shutil.rmtree(filename)\n",
      "    except Exception:\n",
      "        pass\n",
      "    rdd.saveAsTextFile(filename)"
     ],
     "language": "python",
     "metadata": {},
     "outputs": [],
     "prompt_number": 3
    },
    {
     "cell_type": "markdown",
     "metadata": {},
     "source": [
      "This function will be used to add colors to the feature data by taking the differences of adjacent magnitudes."
     ]
    },
    {
     "cell_type": "code",
     "collapsed": true,
     "input": [
      "def addColors (features):\n",
      "    for i in range (len(features)-1):\n",
      "        features.append(features[i+1]-features[i])\n",
      "    return features"
     ],
     "language": "python",
     "metadata": {},
     "outputs": [],
     "prompt_number": 4
    },
    {
     "cell_type": "markdown",
     "metadata": {},
     "source": [
      "This function does data preprocessing. It removes unwanted columns and puts the relevant data in LabeledPoint objects. Note that, in this particular dataset, one of the columns has comma seperated values enclosed by quotes that all belong under a single heading. This column will be quotes[1]. "
     ]
    },
    {
     "cell_type": "code",
     "collapsed": true,
     "input": [
      "def parse (line): \n",
      "    quotes = np.array([x for x in line.split('\"')])\n",
      "    row = quotes[0].split(',')[:-1] + [quotes[1]] + quotes[2].split(',')[1:]\n",
      "    label = float(row[heads['true_class']])\n",
      "    want = ['MAG_u', 'MAG_g', 'MAG_r', 'MAG_i', 'MAG_z']\n",
      "    want_index = []\n",
      "    for w in want:\n",
      "        want_index.append(heads[w])\n",
      "    features = []\n",
      "    for i in range (len(row)):\n",
      "        for w in want_index:\n",
      "            if i == w:\n",
      "                features.append(float(row[i]))\n",
      "    features = addColors(features)\n",
      "    return LabeledPoint(label, features)"
     ],
     "language": "python",
     "metadata": {},
     "outputs": [],
     "prompt_number": 5
    },
    {
     "cell_type": "markdown",
     "metadata": {},
     "source": [
      "Performs k fold cross-validation"
     ]
    },
    {
     "cell_type": "code",
     "collapsed": true,
     "input": [
      "def kfolds (data):\n",
      "    acc = 0\n",
      "    spurity = 0\n",
      "    scomp = 0\n",
      "    gpurity = 0\n",
      "    gcomp = 0\n",
      "    foldsize = data.count()/k\n",
      "    tested = sc.parallelize([])\n",
      "    for i in range(k):\n",
      "        test = sc.parallelize(data.subtract(tested).takeSample(False, foldsize))\n",
      "        tested = tested.union(test)\n",
      "        train = data.subtract(test)\n",
      "        # train the random forest\n",
      "        model = RandomForest.trainClassifier(train, numClasses=2, categoricalFeaturesInfo={},\n",
      "                                     numTrees = num_trees, featureSubsetStrategy = strat,\n",
      "                                     impurity='gini', maxDepth = max_depth, maxBins=32)\n",
      "\n",
      "        predictions = model.predict(test.map(lambda x: x.features))\n",
      "        labelsAndPredictions = test.map(lambda lp: lp.label).zip(predictions)\n",
      "        testErr = labelsAndPredictions.filter(lambda (v, p): v != p).count() / float(test.count())\n",
      "        Mg = float(labelsAndPredictions.filter(lambda (v, p): v == 0 and p == 1).count())\n",
      "        Ng = float(labelsAndPredictions.filter(lambda (v, p): v == 0 and p == 0).count())\n",
      "        Ms = float(labelsAndPredictions.filter(lambda (v, p): v == 1 and p == 0).count())\n",
      "        Ns = float(labelsAndPredictions.filter(lambda (v, p): v == 1 and p == 1).count())\n",
      "        \n",
      "        gpurity += (Ng / (Ng+Ms))\n",
      "        gcomp += (Ng / (Ng+Mg))\n",
      "        spurity += (Ns / (Ns+Mg))\n",
      "        scomp += (Ns/(Ns+Ms))\n",
      "        acc += (1 - testErr)\n",
      "    \n",
      "    print 'with '+ str(k) + ' folds:'\n",
      "    print ('Average Galaxy Purity = ' + str(gpurity / k))\n",
      "    print ('Average Galaxy Completeness = ' + str(gcomp / k))\n",
      "    print ('Average Star Purity = ' + str(spurity / k))\n",
      "    print ('Average Star Completeness = ' + str(scomp / k))\n",
      "    print ('Average Accuracy = ' + str(acc / k))\n",
      "            "
     ],
     "language": "python",
     "metadata": {},
     "outputs": [],
     "prompt_number": 9
    },
    {
     "cell_type": "markdown",
     "metadata": {},
     "source": [
      "Trains a random forest model and saves it "
     ]
    },
    {
     "cell_type": "code",
     "collapsed": false,
     "input": [
      "def trainAndSave (filename = 'RFmodel'+str(num_trees)+strat+str(max_depth)) :\n",
      "    model = RandomForest.trainClassifier(data, numClasses=2, categoricalFeaturesInfo={},\n",
      "                                     numTrees=num_trees, featureSubsetStrategy = strat,\n",
      "                                     impurity='gini', maxDepth = max_depth, maxBins=32)\n",
      "    model.save(sc, filename)"
     ],
     "language": "python",
     "metadata": {},
     "outputs": []
    },
    {
     "cell_type": "markdown",
     "metadata": {},
     "source": [
      "Loads and returns a random forest model"
     ]
    },
    {
     "cell_type": "code",
     "collapsed": false,
     "input": [
      "def load (filename) :\n",
      "    model = RandomForestModel.load(sc, filename)\n",
      "    return model"
     ],
     "language": "python",
     "metadata": {},
     "outputs": []
    },
    {
     "cell_type": "markdown",
     "metadata": {},
     "source": [
      "Tests the model on the data. Note that, when called below, this tests the model on the training data. Therefore, this is not intended to provide any measure of model efficacy, but rather to ensure that the model was saved and loaded correctly."
     ]
    },
    {
     "cell_type": "code",
     "collapsed": false,
     "input": [
      "def test (model) :\n",
      "    predictions = model.predict(data.map(lambda x: x.features))\n",
      "    labelsAndPredictions = data.map(lambda lp: lp.label).zip(predictions)\n",
      "    testErr = labelsAndPredictions.filter(lambda (v, p): v != p).count() / float(data.count())\n",
      "    Mg = float(labelsAndPredictions.filter(lambda (v, p): v == 0 and p == 1).count())\n",
      "    Ng = float(labelsAndPredictions.filter(lambda (v, p): v == 0 and p == 0).count())\n",
      "    Ms = float(labelsAndPredictions.filter(lambda (v, p): v == 1 and p == 0).count())\n",
      "    Ns = float(labelsAndPredictions.filter(lambda (v, p): v == 1 and p == 1).count())\n",
      "    #labelsAndPredictions = labelsAndPredictions.zip(probs)\n",
      "    #labelsAndProbs = data.map(lambda lp: lp.label).zip(probs)\n",
      "    #save(labelsAndProbs, 'answers')\n",
      "    print ('Galaxy Purity = ' + str(Ng / (Ng+Ms)))\n",
      "    print ('Galaxy Completeness = ' + str(Ng / (Ng+Mg)))\n",
      "    print ('Star Purity = ' + str(Ns / (Ns+Mg)))\n",
      "    print ('Star Completeness = ' + str(Ns/(Ns+Ms)))\n",
      "    print ('Accuracy = ' + str(1 - testErr))\n",
      "    #print(model.toDebugString())"
     ],
     "language": "python",
     "metadata": {},
     "outputs": []
    },
    {
     "cell_type": "markdown",
     "metadata": {},
     "source": [
      "Starts the spark context, loads and parses the data, trains and saves a model, loads and tests the model, performs k fold cross-validation to give an idea of model efficacy."
     ]
    },
    {
     "cell_type": "code",
     "collapsed": false,
     "input": [
      "sc = SparkContext(appName=\"stargalaxy\")\n",
      "rawData = sc.textFile(dataFile) # is an RDD\n",
      "header = rawData.first()\n",
      "lines = rawData.filter(lambda x: x != header) #now the header is gone\n",
      "header_split = str(header).split(',')\n",
      "heads = {}\n",
      "for i in range( len(header_split)):\n",
      "    heads[header_split[i]] = i\n",
      "data = lines.map(parse).cache() # RDD of LabeledPoints\n",
      "feature_data = data.map(lambda x: x.features)\n",
      "rawData.unpersist()\n",
      "\n",
      "trainAndSave('testmodel')\n",
      "model = load('testmodel')\n",
      "test(model)\n",
      "kfolds(data)"
     ],
     "language": "python",
     "metadata": {},
     "outputs": []
    }
   ],
   "metadata": {}
  }
 ]
}