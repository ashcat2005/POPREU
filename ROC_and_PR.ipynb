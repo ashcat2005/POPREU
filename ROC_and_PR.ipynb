{
 "metadata": {
  "kernelspec": {
   "display_name": "Python 2",
   "language": "python",
   "name": "python2"
  },
  "language_info": {
   "codemirror_mode": {
    "name": "ipython",
    "version": 2
   },
   "file_extension": ".py",
   "mimetype": "text/x-python",
   "name": "python",
   "nbconvert_exporter": "python",
   "pygments_lexer": "ipython2",
   "version": "2.7.10"
  },
  "name": "",
  "signature": "sha256:03ef7663a183d19660a401c2d3dc3bb6e8f325a35f882127f45bf49d1de4e457"
 },
 "nbformat": 3,
 "nbformat_minor": 0,
 "worksheets": [
  {
   "cells": [
    {
     "cell_type": "markdown",
     "metadata": {},
     "source": [
      "#Plot the ROC and PR Curves\n",
      "for Random Forest Classification of Star-Galaxy with 50 Trees and a Depth of 10 on CFHTLens Data"
     ]
    },
    {
     "cell_type": "markdown",
     "metadata": {},
     "source": [
      "For getting the path of python modules on local machine"
     ]
    },
    {
     "cell_type": "code",
     "collapsed": false,
     "input": [
      "import os\n",
      "import sys\n",
      "sys.path.append(\"/Library/Python/2.7/site-packages\")"
     ],
     "language": "python",
     "metadata": {},
     "outputs": [],
     "prompt_number": 1
    },
    {
     "cell_type": "markdown",
     "metadata": {},
     "source": [
      "Import necessary modules"
     ]
    },
    {
     "cell_type": "code",
     "collapsed": true,
     "input": [
      "import matplotlib.pyplot as plt\n",
      "from sklearn import metrics\n",
      "%matplotlib inline"
     ],
     "language": "python",
     "metadata": {},
     "outputs": [],
     "prompt_number": 2
    },
    {
     "cell_type": "markdown",
     "metadata": {},
     "source": [
      "Open and read data file"
     ]
    },
    {
     "cell_type": "code",
     "collapsed": false,
     "input": [
      "f = open('data/ROC50x10.txt','r')\n",
      "lines = f.readlines()\n",
      "f.close()"
     ],
     "language": "python",
     "metadata": {},
     "outputs": [],
     "prompt_number": 3
    },
    {
     "cell_type": "markdown",
     "metadata": {},
     "source": [
      "Format data into two lists: <br/>\n",
      "     true: True targets of binary classification <br/>\n",
      "     score: Estimated probabilities"
     ]
    },
    {
     "cell_type": "code",
     "collapsed": false,
     "input": [
      "true = []\n",
      "score = []\n",
      "for i in range(len(lines)):\n",
      "    lines[i] = lines[i].strip().strip('(').strip(')').split(',')\n",
      "    true.append(int(float(lines[i][0])))\n",
      "    score.append(float(lines[i][1]))"
     ],
     "language": "python",
     "metadata": {},
     "outputs": [],
     "prompt_number": 4
    },
    {
     "cell_type": "markdown",
     "metadata": {},
     "source": [
      "<b> Note that a value of 0 is a galaxy and 1 represents a star. The following curves and metrics are based on the interpretation that a star classification is positive and a galaxy is negative. </b>"
     ]
    },
    {
     "cell_type": "markdown",
     "metadata": {},
     "source": [
      "Calcuate ROC Curve and area under ROC curve"
     ]
    },
    {
     "cell_type": "code",
     "collapsed": false,
     "input": [
      "roc = metrics.roc_curve(true,score)\n",
      "roc_auc = metrics.auc(roc[0],roc[1])\n",
      "print roc_auc"
     ],
     "language": "python",
     "metadata": {},
     "outputs": [
      {
       "output_type": "stream",
       "stream": "stdout",
       "text": [
        "0.974022554495\n"
       ]
      }
     ],
     "prompt_number": 5
    },
    {
     "cell_type": "markdown",
     "metadata": {},
     "source": [
      "Plot ROC Curve"
     ]
    },
    {
     "cell_type": "code",
     "collapsed": false,
     "input": [
      "plt.plot(roc[0],roc[1], label = 'ROC curve (area under curve = ' +str(roc_auc.round(4))+')')\n",
      "plt.plot([0,1],[0,1],'k--')\n",
      "plt.title('ROC curve for 50 Trees and a Depth of 10')\n",
      "plt.xlabel('False Positive Rate')\n",
      "plt.ylabel('True Positive Rate')\n",
      "plt.legend(loc = 'lower center')\n",
      "plt.show()"
     ],
     "language": "python",
     "metadata": {},
     "outputs": [
      {
       "metadata": {},
       "output_type": "display_data",
       "png": "[encoded data removed]",
       "text": [
        "<matplotlib.figure.Figure at 0xd05e710>"
       ]
      }
     ],
     "prompt_number": 46
    },
    {
     "cell_type": "markdown",
     "metadata": {},
     "source": [
      "Calculate and Plot PR Curve"
     ]
    },
    {
     "cell_type": "code",
     "collapsed": false,
     "input": [
      "pr = metrics.precision_recall_curve(true, score)\n",
      "#plt.plot([0,1],[0,1],'k--')\n",
      "avgp = metrics.average_precision_score(true, score)\n",
      "print avgp\n",
      "plt.plot(pr[0],pr[1], label = 'PR curve (Average Precision = ' +str(avgp.round(4))+')')\n",
      "plt.title('PR curve for 50 Trees and a Depth of 10')\n",
      "plt.xlabel('Precision')\n",
      "plt.ylabel('Recall')\n",
      "plt.legend(loc = 'lower center')\n",
      "plt.show()"
     ],
     "language": "python",
     "metadata": {},
     "outputs": [
      {
       "output_type": "stream",
       "stream": "stdout",
       "text": [
        "0.918983861757\n"
       ]
      },
      {
       "metadata": {},
       "output_type": "display_data",
       "png": "[encoded data removed]",
       "text": [
        "<matplotlib.figure.Figure at 0x474fb38>"
       ]
      }
     ],
     "prompt_number": 40
    },
    {
     "cell_type": "markdown",
     "metadata": {},
     "source": [
      "<b> Now we do the same evaluation process but with the interpretation that a galaxy classification is positive and a star is negative. </b>\n",
      "\n",
      "First, we flip the values in these lists:"
     ]
    },
    {
     "cell_type": "code",
     "collapsed": false,
     "input": [
      "true2 = []\n",
      "score2 = []\n",
      "for i in range (len(score)) :\n",
      "    true2.append(abs(true[i]-1))\n",
      "    score2.append(1 - score[i])"
     ],
     "language": "python",
     "metadata": {},
     "outputs": [],
     "prompt_number": 44
    },
    {
     "cell_type": "markdown",
     "metadata": {},
     "source": [
      "ROC curve:"
     ]
    },
    {
     "cell_type": "code",
     "collapsed": false,
     "input": [
      "roc2 = metrics.roc_curve(true2, score2)\n",
      "roc_auc2 = metrics.auc(roc2[0], roc2[1])\n",
      "print roc_auc2\n",
      "plt.plot(roc2[0],roc2[1], label = 'ROC curve (area under curve = ' +str(roc_auc2.round(4))+')')\n",
      "plt.plot([0,1],[0,1],'k--')\n",
      "plt.title('ROC curve for 50 Trees and a Depth of 10')\n",
      "plt.xlabel('False Positive Rate')\n",
      "plt.ylabel('True Positive Rate')\n",
      "plt.legend(loc = 'lower center')\n",
      "plt.show()"
     ],
     "language": "python",
     "metadata": {},
     "outputs": [
      {
       "output_type": "stream",
       "stream": "stdout",
       "text": [
        "0.974022554495\n"
       ]
      },
      {
       "metadata": {},
       "output_type": "display_data",
       "png": "[encoded data removed]",
       "text": [
        "<matplotlib.figure.Figure at 0xd05ec18>"
       ]
      }
     ],
     "prompt_number": 45
    },
    {
     "cell_type": "markdown",
     "metadata": {},
     "source": [
      "The two ROC curves have identical integrals. It appears that this curve is the first curve flipped over the line y=-x+1"
     ]
    },
    {
     "cell_type": "markdown",
     "metadata": {},
     "source": [
      "PR curve:"
     ]
    },
    {
     "cell_type": "code",
     "collapsed": false,
     "input": [
      "pr2 = metrics.precision_recall_curve(true2, score2)\n",
      "#plt.plot([0,1],[0,1],'k--')\n",
      "avgp2 = metrics.average_precision_score(true2, score2)\n",
      "print avgp2\n",
      "plt.plot(pr2[0],pr2[1], label = 'PR curve (Average Precision = ' +str(avgp2.round(4))+')')\n",
      "plt.title('PR curve for 50 Trees and a Depth of 10')\n",
      "plt.xlabel('Precision')\n",
      "plt.ylabel('Recall')\n",
      "plt.legend(loc = 'lower center')\n",
      "plt.show()"
     ],
     "language": "python",
     "metadata": {},
     "outputs": [
      {
       "output_type": "stream",
       "stream": "stdout",
       "text": [
        "0.995833605159\n"
       ]
      },
      {
       "metadata": {},
       "output_type": "display_data",
       "png": "[encoded data removed]",
       "text": [
        "<matplotlib.figure.Figure at 0xb72d3c8>"
       ]
      }
     ],
     "prompt_number": 42
    },
    {
     "cell_type": "markdown",
     "metadata": {},
     "source": [
      "The following four functions return galaxy completeness (cg), star completeness (cs), galaxy purity (pg), and star purity (ps) for a given threshold based solely on the data that was read in at the beginning. These functions do not interpolate from the PR curve."
     ]
    },
    {
     "cell_type": "code",
     "collapsed": false,
     "input": [
      "def cg (threshold) :\n",
      "    total = 0\n",
      "    correct = 0\n",
      "    for i in range (len(score)) :\n",
      "        if true[i] == 0.0 :\n",
      "            total += 1\n",
      "        if score[i] < threshold and true[i] == 0 :\n",
      "            correct += 1\n",
      "    return float(correct) / float(total)"
     ],
     "language": "python",
     "metadata": {},
     "outputs": [],
     "prompt_number": 8
    },
    {
     "cell_type": "code",
     "collapsed": false,
     "input": [
      "def cs (threshold) :\n",
      "    total = 0\n",
      "    correct = 0\n",
      "    for i in range (len(score)) :\n",
      "        if true[i] == 1.0 :\n",
      "            total += 1\n",
      "        if score[i] >= threshold and true[i] == 1.0 :\n",
      "            correct += 1\n",
      "    return float(correct) / float(total)"
     ],
     "language": "python",
     "metadata": {},
     "outputs": [],
     "prompt_number": 9
    },
    {
     "cell_type": "code",
     "collapsed": false,
     "input": [
      "def pg (threshold) :\n",
      "    total = 0\n",
      "    correct = 0\n",
      "    for i in range (len(score)) :\n",
      "        if score[i] < threshold :\n",
      "            total += 1\n",
      "        if score[i] < threshold and true[i] == 0 :\n",
      "            correct += 1\n",
      "    return float(correct) / float(total)"
     ],
     "language": "python",
     "metadata": {},
     "outputs": [],
     "prompt_number": 10
    },
    {
     "cell_type": "code",
     "collapsed": false,
     "input": [
      "def ps (threshold) :\n",
      "    total = 0\n",
      "    correct = 0\n",
      "    for i in range (len(score)) :\n",
      "        if score[i] >= threshold :\n",
      "            total += 1\n",
      "        if score[i] >= threshold and true[i] == 1 :\n",
      "            correct += 1\n",
      "    return float(correct) / float(total)"
     ],
     "language": "python",
     "metadata": {},
     "outputs": [],
     "prompt_number": 11
    },
    {
     "cell_type": "code",
     "collapsed": false,
     "input": [
      "print cg(0.5)\n",
      "print cs(0.5)\n",
      "print pg(0.5)\n",
      "print ps(0.5)"
     ],
     "language": "python",
     "metadata": {},
     "outputs": [
      {
       "output_type": "stream",
       "stream": "stdout",
       "text": [
        "0.989718334197\n",
        "0.781946072685\n",
        "0.968546546039\n",
        "0.918100481762\n"
       ]
      }
     ],
     "prompt_number": 12
    },
    {
     "cell_type": "markdown",
     "metadata": {},
     "source": [
      "This function returns the threshold that gives a galaxy completeness as close to 0.96 as possible."
     ]
    },
    {
     "cell_type": "code",
     "collapsed": false,
     "input": [
      "def cgThresh (desired_cg = 0.96) :\n",
      "    incr = 1.0\n",
      "    for elem in score:\n",
      "        if elem < incr and elem != 0.0: incr = elem\n",
      "    best = 1.0\n",
      "    best_thresh = 0.0\n",
      "    thresh = incr\n",
      "    for i in range (int(1 / incr)+1) :\n",
      "        num = cg(thresh)\n",
      "        if abs(num - desired_cg) < abs(best - desired_cg) :\n",
      "            best_thresh = thresh\n",
      "            best = num\n",
      "        thresh += incr\n",
      "    return best_thresh\n",
      "    "
     ],
     "language": "python",
     "metadata": {},
     "outputs": [],
     "prompt_number": 13
    },
    {
     "cell_type": "code",
     "collapsed": false,
     "input": [
      "t = cgThresh()\n",
      "print t\n",
      "print cg(t)\n",
      "print pg(t)"
     ],
     "language": "python",
     "metadata": {},
     "outputs": [
      {
       "output_type": "stream",
       "stream": "stdout",
       "text": [
        "0.12\n",
        "0.961638154484\n",
        "0.987752928647\n"
       ]
      }
     ],
     "prompt_number": 14
    },
    {
     "cell_type": "markdown",
     "metadata": {},
     "source": [
      "This function returns the threshold that gives a star completeness as close to 0.25 as possible."
     ]
    },
    {
     "cell_type": "code",
     "collapsed": false,
     "input": [
      "def csThresh (desired_cs = 0.25) :\n",
      "    incr = 1.0\n",
      "    for elem in score:\n",
      "        if elem < incr and elem != 0.0: incr = elem\n",
      "    best = 1.0\n",
      "    best_thresh = 0.0\n",
      "    thresh = incr\n",
      "    for i in range (int(1 / incr)+1) :\n",
      "        num = cs(thresh)\n",
      "        if abs(num - desired_cs) < abs(best - desired_cs) :\n",
      "            best_thresh = thresh\n",
      "            best = num\n",
      "        thresh += incr\n",
      "    return best_thresh"
     ],
     "language": "python",
     "metadata": {},
     "outputs": [],
     "prompt_number": 15
    },
    {
     "cell_type": "code",
     "collapsed": false,
     "input": [
      "t2 = csThresh()\n",
      "print t2\n",
      "print cs(t2)\n",
      "print ps(t2)"
     ],
     "language": "python",
     "metadata": {},
     "outputs": [
      {
       "output_type": "stream",
       "stream": "stdout",
       "text": [
        "0.98\n",
        "0.301289566237\n",
        "0.975332068311\n"
       ]
      }
     ],
     "prompt_number": 16
    },
    {
     "cell_type": "code",
     "collapsed": false,
     "input": [],
     "language": "python",
     "metadata": {},
     "outputs": []
    }
   ],
   "metadata": {}
  }
 ]
}